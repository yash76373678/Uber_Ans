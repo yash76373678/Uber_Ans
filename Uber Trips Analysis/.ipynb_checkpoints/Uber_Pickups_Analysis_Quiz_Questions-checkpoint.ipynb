{
 "cells": [
  {
   "cell_type": "markdown",
   "id": "59130f22",
   "metadata": {},
   "source": [
    "### Uber Pickups Analysis Quiz\n",
    "\n",
    "The question set is based on the August dataset, `uber-raw-data-aug14.csv`.\n",
    "\n",
    "#### Keeping the dataset ready before questions"
   ]
  },
  {
   "cell_type": "code",
   "execution_count": 1,
   "id": "5cee4116",
   "metadata": {},
   "outputs": [
    {
     "data": {
      "text/html": [
       "<div>\n",
       "<style scoped>\n",
       "    .dataframe tbody tr th:only-of-type {\n",
       "        vertical-align: middle;\n",
       "    }\n",
       "\n",
       "    .dataframe tbody tr th {\n",
       "        vertical-align: top;\n",
       "    }\n",
       "\n",
       "    .dataframe thead th {\n",
       "        text-align: right;\n",
       "    }\n",
       "</style>\n",
       "<table border=\"1\" class=\"dataframe\">\n",
       "  <thead>\n",
       "    <tr style=\"text-align: right;\">\n",
       "      <th></th>\n",
       "      <th>Date/Time</th>\n",
       "      <th>Lat</th>\n",
       "      <th>Lon</th>\n",
       "      <th>Base</th>\n",
       "    </tr>\n",
       "  </thead>\n",
       "  <tbody>\n",
       "    <tr>\n",
       "      <th>0</th>\n",
       "      <td>8/1/2014 0:03:00</td>\n",
       "      <td>40.7366</td>\n",
       "      <td>-73.9906</td>\n",
       "      <td>B02512</td>\n",
       "    </tr>\n",
       "    <tr>\n",
       "      <th>1</th>\n",
       "      <td>8/1/2014 0:09:00</td>\n",
       "      <td>40.7260</td>\n",
       "      <td>-73.9918</td>\n",
       "      <td>B02512</td>\n",
       "    </tr>\n",
       "    <tr>\n",
       "      <th>2</th>\n",
       "      <td>8/1/2014 0:12:00</td>\n",
       "      <td>40.7209</td>\n",
       "      <td>-74.0507</td>\n",
       "      <td>B02512</td>\n",
       "    </tr>\n",
       "    <tr>\n",
       "      <th>3</th>\n",
       "      <td>8/1/2014 0:12:00</td>\n",
       "      <td>40.7387</td>\n",
       "      <td>-73.9856</td>\n",
       "      <td>B02512</td>\n",
       "    </tr>\n",
       "    <tr>\n",
       "      <th>4</th>\n",
       "      <td>8/1/2014 0:12:00</td>\n",
       "      <td>40.7323</td>\n",
       "      <td>-74.0077</td>\n",
       "      <td>B02512</td>\n",
       "    </tr>\n",
       "  </tbody>\n",
       "</table>\n",
       "</div>"
      ],
      "text/plain": [
       "          Date/Time      Lat      Lon    Base\n",
       "0  8/1/2014 0:03:00  40.7366 -73.9906  B02512\n",
       "1  8/1/2014 0:09:00  40.7260 -73.9918  B02512\n",
       "2  8/1/2014 0:12:00  40.7209 -74.0507  B02512\n",
       "3  8/1/2014 0:12:00  40.7387 -73.9856  B02512\n",
       "4  8/1/2014 0:12:00  40.7323 -74.0077  B02512"
      ]
     },
     "execution_count": 1,
     "metadata": {},
     "output_type": "execute_result"
    }
   ],
   "source": [
    "import pandas as pd\n",
    "\n",
    "df = pd.read_csv('./data/uber-raw-data-aug14.csv')\n",
    "df.head()"
   ]
  },
  {
   "cell_type": "markdown",
   "id": "c622eaeb",
   "metadata": {},
   "source": [
    "#### Q1. On what date did we see the most number of Uber pickups?\n",
    "\n",
    "**Skill Test:** Grouping & Counting"
   ]
  },
  {
   "cell_type": "code",
   "execution_count": 50,
   "id": "55dbb048",
   "metadata": {},
   "outputs": [
    {
     "name": "stdout",
     "output_type": "stream",
     "text": [
      "2014-08-07\n"
     ]
    },
    {
     "data": {
      "text/plain": [
       "32759"
      ]
     },
     "execution_count": 50,
     "metadata": {},
     "output_type": "execute_result"
    }
   ],
   "source": [
    "# Convert the 'Date/Time' column to datetime format\n",
    "\n",
    "\"\"\"df['Date/Time']=pd.to_datetime(df['Date/Time'])\"\"\"\n",
    "# Group by date and count the number of pickups\n",
    "\"\"\"df['Date']=df['Date/Time'].dt.date\n",
    "a=df.groupby('Date').count()\n",
    "print(a)\"\"\"\n",
    "# Find the date with the highest number of pickups\n",
    "a=df.groupby('Date').count().sort_values(by='Date/Time',ascending=False)\n",
    "print(a.idxmax()[0])\n",
    "print(a.values[0][0])"
   ]
  },
  {
   "cell_type": "markdown",
   "id": "92876286",
   "metadata": {},
   "source": [
    "#### Q.2 How many Uber pickups were made on the date with the highest number of pickups?\n",
    "\n",
    "**Skill Test:** Indexing and filtering"
   ]
  },
  {
   "cell_type": "code",
   "execution_count": 36,
   "id": "f9574d4a",
   "metadata": {},
   "outputs": [
    {
     "data": {
      "text/html": [
       "<div>\n",
       "<style scoped>\n",
       "    .dataframe tbody tr th:only-of-type {\n",
       "        vertical-align: middle;\n",
       "    }\n",
       "\n",
       "    .dataframe tbody tr th {\n",
       "        vertical-align: top;\n",
       "    }\n",
       "\n",
       "    .dataframe thead th {\n",
       "        text-align: right;\n",
       "    }\n",
       "</style>\n",
       "<table border=\"1\" class=\"dataframe\">\n",
       "  <thead>\n",
       "    <tr style=\"text-align: right;\">\n",
       "      <th></th>\n",
       "      <th>Date/Time</th>\n",
       "      <th>Lat</th>\n",
       "      <th>Lon</th>\n",
       "      <th>Base</th>\n",
       "    </tr>\n",
       "    <tr>\n",
       "      <th>Date</th>\n",
       "      <th></th>\n",
       "      <th></th>\n",
       "      <th></th>\n",
       "      <th></th>\n",
       "    </tr>\n",
       "  </thead>\n",
       "  <tbody>\n",
       "    <tr>\n",
       "      <th>2014-08-07</th>\n",
       "      <td>32759</td>\n",
       "      <td>32759</td>\n",
       "      <td>32759</td>\n",
       "      <td>32759</td>\n",
       "    </tr>\n",
       "    <tr>\n",
       "      <th>2014-08-01</th>\n",
       "      <td>32353</td>\n",
       "      <td>32353</td>\n",
       "      <td>32353</td>\n",
       "      <td>32353</td>\n",
       "    </tr>\n",
       "    <tr>\n",
       "      <th>2014-08-21</th>\n",
       "      <td>32304</td>\n",
       "      <td>32304</td>\n",
       "      <td>32304</td>\n",
       "      <td>32304</td>\n",
       "    </tr>\n",
       "    <tr>\n",
       "      <th>2014-08-06</th>\n",
       "      <td>30495</td>\n",
       "      <td>30495</td>\n",
       "      <td>30495</td>\n",
       "      <td>30495</td>\n",
       "    </tr>\n",
       "    <tr>\n",
       "      <th>2014-08-14</th>\n",
       "      <td>30457</td>\n",
       "      <td>30457</td>\n",
       "      <td>30457</td>\n",
       "      <td>30457</td>\n",
       "    </tr>\n",
       "    <tr>\n",
       "      <th>2014-08-08</th>\n",
       "      <td>30411</td>\n",
       "      <td>30411</td>\n",
       "      <td>30411</td>\n",
       "      <td>30411</td>\n",
       "    </tr>\n",
       "    <tr>\n",
       "      <th>2014-08-13</th>\n",
       "      <td>29788</td>\n",
       "      <td>29788</td>\n",
       "      <td>29788</td>\n",
       "      <td>29788</td>\n",
       "    </tr>\n",
       "    <tr>\n",
       "      <th>2014-08-12</th>\n",
       "      <td>29646</td>\n",
       "      <td>29646</td>\n",
       "      <td>29646</td>\n",
       "      <td>29646</td>\n",
       "    </tr>\n",
       "    <tr>\n",
       "      <th>2014-08-22</th>\n",
       "      <td>29512</td>\n",
       "      <td>29512</td>\n",
       "      <td>29512</td>\n",
       "      <td>29512</td>\n",
       "    </tr>\n",
       "    <tr>\n",
       "      <th>2014-08-15</th>\n",
       "      <td>28974</td>\n",
       "      <td>28974</td>\n",
       "      <td>28974</td>\n",
       "      <td>28974</td>\n",
       "    </tr>\n",
       "    <tr>\n",
       "      <th>2014-08-02</th>\n",
       "      <td>28678</td>\n",
       "      <td>28678</td>\n",
       "      <td>28678</td>\n",
       "      <td>28678</td>\n",
       "    </tr>\n",
       "    <tr>\n",
       "      <th>2014-08-28</th>\n",
       "      <td>28597</td>\n",
       "      <td>28597</td>\n",
       "      <td>28597</td>\n",
       "      <td>28597</td>\n",
       "    </tr>\n",
       "    <tr>\n",
       "      <th>2014-08-05</th>\n",
       "      <td>28094</td>\n",
       "      <td>28094</td>\n",
       "      <td>28094</td>\n",
       "      <td>28094</td>\n",
       "    </tr>\n",
       "    <tr>\n",
       "      <th>2014-08-20</th>\n",
       "      <td>27955</td>\n",
       "      <td>27955</td>\n",
       "      <td>27955</td>\n",
       "      <td>27955</td>\n",
       "    </tr>\n",
       "    <tr>\n",
       "      <th>2014-08-29</th>\n",
       "      <td>27424</td>\n",
       "      <td>27424</td>\n",
       "      <td>27424</td>\n",
       "      <td>27424</td>\n",
       "    </tr>\n",
       "    <tr>\n",
       "      <th>2014-08-23</th>\n",
       "      <td>27097</td>\n",
       "      <td>27097</td>\n",
       "      <td>27097</td>\n",
       "      <td>27097</td>\n",
       "    </tr>\n",
       "    <tr>\n",
       "      <th>2014-08-27</th>\n",
       "      <td>27018</td>\n",
       "      <td>27018</td>\n",
       "      <td>27018</td>\n",
       "      <td>27018</td>\n",
       "    </tr>\n",
       "    <tr>\n",
       "      <th>2014-08-09</th>\n",
       "      <td>26286</td>\n",
       "      <td>26286</td>\n",
       "      <td>26286</td>\n",
       "      <td>26286</td>\n",
       "    </tr>\n",
       "    <tr>\n",
       "      <th>2014-08-16</th>\n",
       "      <td>26234</td>\n",
       "      <td>26234</td>\n",
       "      <td>26234</td>\n",
       "      <td>26234</td>\n",
       "    </tr>\n",
       "    <tr>\n",
       "      <th>2014-08-04</th>\n",
       "      <td>24952</td>\n",
       "      <td>24952</td>\n",
       "      <td>24952</td>\n",
       "      <td>24952</td>\n",
       "    </tr>\n",
       "    <tr>\n",
       "      <th>2014-08-19</th>\n",
       "      <td>24834</td>\n",
       "      <td>24834</td>\n",
       "      <td>24834</td>\n",
       "      <td>24834</td>\n",
       "    </tr>\n",
       "    <tr>\n",
       "      <th>2014-08-26</th>\n",
       "      <td>24550</td>\n",
       "      <td>24550</td>\n",
       "      <td>24550</td>\n",
       "      <td>24550</td>\n",
       "    </tr>\n",
       "    <tr>\n",
       "      <th>2014-08-30</th>\n",
       "      <td>23930</td>\n",
       "      <td>23930</td>\n",
       "      <td>23930</td>\n",
       "      <td>23930</td>\n",
       "    </tr>\n",
       "    <tr>\n",
       "      <th>2014-08-31</th>\n",
       "      <td>23271</td>\n",
       "      <td>23271</td>\n",
       "      <td>23271</td>\n",
       "      <td>23271</td>\n",
       "    </tr>\n",
       "    <tr>\n",
       "      <th>2014-08-03</th>\n",
       "      <td>23146</td>\n",
       "      <td>23146</td>\n",
       "      <td>23146</td>\n",
       "      <td>23146</td>\n",
       "    </tr>\n",
       "    <tr>\n",
       "      <th>2014-08-11</th>\n",
       "      <td>22632</td>\n",
       "      <td>22632</td>\n",
       "      <td>22632</td>\n",
       "      <td>22632</td>\n",
       "    </tr>\n",
       "    <tr>\n",
       "      <th>2014-08-25</th>\n",
       "      <td>22093</td>\n",
       "      <td>22093</td>\n",
       "      <td>22093</td>\n",
       "      <td>22093</td>\n",
       "    </tr>\n",
       "    <tr>\n",
       "      <th>2014-08-24</th>\n",
       "      <td>22036</td>\n",
       "      <td>22036</td>\n",
       "      <td>22036</td>\n",
       "      <td>22036</td>\n",
       "    </tr>\n",
       "    <tr>\n",
       "      <th>2014-08-18</th>\n",
       "      <td>21956</td>\n",
       "      <td>21956</td>\n",
       "      <td>21956</td>\n",
       "      <td>21956</td>\n",
       "    </tr>\n",
       "    <tr>\n",
       "      <th>2014-08-17</th>\n",
       "      <td>21209</td>\n",
       "      <td>21209</td>\n",
       "      <td>21209</td>\n",
       "      <td>21209</td>\n",
       "    </tr>\n",
       "    <tr>\n",
       "      <th>2014-08-10</th>\n",
       "      <td>20584</td>\n",
       "      <td>20584</td>\n",
       "      <td>20584</td>\n",
       "      <td>20584</td>\n",
       "    </tr>\n",
       "  </tbody>\n",
       "</table>\n",
       "</div>"
      ],
      "text/plain": [
       "            Date/Time    Lat    Lon   Base\n",
       "Date                                      \n",
       "2014-08-07      32759  32759  32759  32759\n",
       "2014-08-01      32353  32353  32353  32353\n",
       "2014-08-21      32304  32304  32304  32304\n",
       "2014-08-06      30495  30495  30495  30495\n",
       "2014-08-14      30457  30457  30457  30457\n",
       "2014-08-08      30411  30411  30411  30411\n",
       "2014-08-13      29788  29788  29788  29788\n",
       "2014-08-12      29646  29646  29646  29646\n",
       "2014-08-22      29512  29512  29512  29512\n",
       "2014-08-15      28974  28974  28974  28974\n",
       "2014-08-02      28678  28678  28678  28678\n",
       "2014-08-28      28597  28597  28597  28597\n",
       "2014-08-05      28094  28094  28094  28094\n",
       "2014-08-20      27955  27955  27955  27955\n",
       "2014-08-29      27424  27424  27424  27424\n",
       "2014-08-23      27097  27097  27097  27097\n",
       "2014-08-27      27018  27018  27018  27018\n",
       "2014-08-09      26286  26286  26286  26286\n",
       "2014-08-16      26234  26234  26234  26234\n",
       "2014-08-04      24952  24952  24952  24952\n",
       "2014-08-19      24834  24834  24834  24834\n",
       "2014-08-26      24550  24550  24550  24550\n",
       "2014-08-30      23930  23930  23930  23930\n",
       "2014-08-31      23271  23271  23271  23271\n",
       "2014-08-03      23146  23146  23146  23146\n",
       "2014-08-11      22632  22632  22632  22632\n",
       "2014-08-25      22093  22093  22093  22093\n",
       "2014-08-24      22036  22036  22036  22036\n",
       "2014-08-18      21956  21956  21956  21956\n",
       "2014-08-17      21209  21209  21209  21209\n",
       "2014-08-10      20584  20584  20584  20584"
      ]
     },
     "execution_count": 36,
     "metadata": {},
     "output_type": "execute_result"
    }
   ],
   "source": [
    "# Filter the DataFrame to include only the rows for the date with the highest number of pickups\n",
    "a=df.groupby('Date').count().sort_values(by='Date/Time',ascending=False)\n",
    "print(a.idxmax()[0])\n",
    "print(a.values[0][0])\n",
    "# Get the count of pickups on the highest date\n",
    "a=df.groupby('Date').count().sort_values(by='Date/Time',ascending=False)\n",
    "print(a.idxmax()[0])\n",
    "print(a.values[0][0])"
   ]
  },
  {
   "cell_type": "markdown",
   "id": "7dc6baef",
   "metadata": {},
   "source": [
    "#### Q.3 How many unique TLC base companies are affiliated with the Uber pickups in the dataset?\n",
    "\n",
    "**Skill Test:** Counting unique values"
   ]
  },
  {
   "cell_type": "code",
   "execution_count": 61,
   "id": "9380c5ff",
   "metadata": {},
   "outputs": [
    {
     "data": {
      "text/plain": [
       "5"
      ]
     },
     "execution_count": 61,
     "metadata": {},
     "output_type": "execute_result"
    }
   ],
   "source": [
    "# Count the number of unique TLC base companies\n",
    "#df['Base'].unique()\n",
    "df['Base'].nunique()\n",
    "\n"
   ]
  },
  {
   "cell_type": "markdown",
   "id": "71958a9f",
   "metadata": {},
   "source": [
    "#### Q.4 Which TLC base company had the highest number of pickups?\n",
    "\n",
    "**Skill Test:** Grouping, counting, and finding the maximum"
   ]
  },
  {
   "cell_type": "code",
   "execution_count": 73,
   "id": "cd1cfe55",
   "metadata": {},
   "outputs": [
    {
     "name": "stdout",
     "output_type": "stream",
     "text": [
      "Base\n",
      "B02617    355803\n",
      "B02598    220129\n",
      "B02682    173280\n",
      "B02764     48591\n",
      "B02512     31472\n",
      "Name: count, dtype: int64\n"
     ]
    }
   ],
   "source": [
    "# Group by TLC base company and count the number of pickups\n",
    "'''a=df.groupby('Base')['Base'].value_counts()\n",
    "print(a)'''\n",
    "\n",
    "# Find the TLC base company with the highest number of pickups\n",
    "a=df.groupby('Base')['Base'].value_counts().sort_values(ascending=False)\n",
    "print(a)\n"
   ]
  },
  {
   "cell_type": "markdown",
   "id": "a7fe7748",
   "metadata": {},
   "source": [
    "#### Q.5 How many Uber pickups were made at each unique TLC base company?\n",
    "\n",
    "**Skill Test:** Grouping and counting"
   ]
  },
  {
   "cell_type": "code",
   "execution_count": 5,
   "id": "f8a4e6b3",
   "metadata": {},
   "outputs": [],
   "source": [
    "# Group by TLC base company and count the number of pickups\n",
    "\n",
    "a=df.groupby('Base')['Base'].value_counts().sort_values(ascending=False)\n",
    "print(a)\n"
   ]
  },
  {
   "cell_type": "markdown",
   "id": "fdae331e",
   "metadata": {},
   "source": [
    "#### Q.6 Can you determine the busiest time of day for Uber pickups based on the date/time column?\n",
    "\n",
    "**Skill Test:** Extracting time components, grouping, counting, and finding the maximum"
   ]
  },
  {
   "cell_type": "code",
   "execution_count": 78,
   "id": "3341b137",
   "metadata": {},
   "outputs": [
    {
     "name": "stdout",
     "output_type": "stream",
     "text": [
      "17\n",
      "57122\n"
     ]
    }
   ],
   "source": [
    "# Extract the hour from the 'Date/Time' column\n",
    "df['Hour']=df['Date/Time'].dt.hour\n",
    "\n",
    "# Group by hour and count the number of pickups\n",
    "'''a=df.groupby('Hour').count()\n",
    "a'''\n",
    "# Find the hour with the highest number of pickups\n",
    "a=df.groupby('Hour').count().sort_values(by='Date/Time',ascending=False)\n",
    "print(a.idxmax()[0])\n",
    "print(a.values[0][0])"
   ]
  },
  {
   "cell_type": "markdown",
   "id": "c2d856c1",
   "metadata": {},
   "source": [
    "#### Q.7 Can you create a visualization (e.g., a bar chart or line plot) to represent the number of Uber pickups over time?\n",
    "\n",
    "**Skill Test:** Data Visualization using Plotting function "
   ]
  },
  {
   "cell_type": "code",
   "execution_count": 80,
   "id": "bf609d23",
   "metadata": {},
   "outputs": [
    {
     "data": {
      "text/plain": [
       "[<matplotlib.lines.Line2D at 0x223c0c4b520>]"
      ]
     },
     "execution_count": 80,
     "metadata": {},
     "output_type": "execute_result"
    },
    {
     "data": {
      "image/png": "[encoded data removed]",
      "text/plain": [
       "<Figure size 640x480 with 1 Axes>"
      ]
     },
     "metadata": {},
     "output_type": "display_data"
    }
   ],
   "source": [
    "import matplotlib.pyplot as plt\n",
    "\n",
    "# Group by date and count the number of pickups\n",
    "grouped_data=df.groupby('Date')[\"Date\"].count()\n",
    "\n",
    "# Create a line plot to visualize the number of pickups over time\n",
    "plt.plot(grouped_data.values)"
   ]
  },
  {
   "cell_type": "markdown",
   "id": "8aed8e44",
   "metadata": {},
   "source": [
    "#### Q8. Can you create a scatter plot to visualize the distribution of Uber pickups based on latitude and longitude?\n",
    "\n",
    "**Skill Test:** Scatter Plot"
   ]
  },
  {
   "cell_type": "code",
   "execution_count": 81,
   "id": "50b31f2f",
   "metadata": {},
   "outputs": [
    {
     "data": {
      "text/plain": [
       "<matplotlib.collections.PathCollection at 0x223c1fa9fa0>"
      ]
     },
     "execution_count": 81,
     "metadata": {},
     "output_type": "execute_result"
    },
    {
     "data": {
      "image/png": "[encoded data removed]",
      "text/plain": [
       "<Figure size 640x480 with 1 Axes>"
      ]
     },
     "metadata": {},
     "output_type": "display_data"
    }
   ],
   "source": [
    "# Create a scatter plot to visualize the distribution of Uber pickups based on latitude and longitude\n",
    "plt.scatter(df['Lat'],df['Lon'])"
   ]
  },
  {
   "cell_type": "markdown",
   "id": "3e0bad62",
   "metadata": {},
   "source": [
    "#### Q9. Can you create a bar chart to compare the number of Uber pickups for each TLC base company?\n",
    "\n",
    "**Skill Test:** Bar Chart"
   ]
  },
  {
   "cell_type": "code",
   "execution_count": 89,
   "id": "5b603834",
   "metadata": {},
   "outputs": [
    {
     "data": {
      "text/plain": [
       "<BarContainer object of 5 artists>"
      ]
     },
     "execution_count": 89,
     "metadata": {},
     "output_type": "execute_result"
    },
    {
     "data": {
      "image/png": "[encoded data removed]",
      "text/plain": [
       "<Figure size 640x480 with 1 Axes>"
      ]
     },
     "metadata": {},
     "output_type": "display_data"
    }
   ],
   "source": [
    "# Create a bar chart to compare the number of Uber pickups for each TLC base company\n",
    "grouped_data=df.groupby('Base')[\"Base\"].count()\n",
    "grouped_data\n",
    "plt.bar(grouped_data.index,grouped_data.values)"
   ]
  },
  {
   "cell_type": "markdown",
   "id": "e61b3ecf",
   "metadata": {},
   "source": [
    "#### Q10. Can you create a pie chart to display the percentage distribution of Uber pickups for each day of the week?\n",
    "\n",
    "**Skill Test:** Pie Chart"
   ]
  },
  {
   "cell_type": "code",
   "execution_count": 99,
   "id": "e45dbff8",
   "metadata": {},
   "outputs": [
    {
     "data": {
      "image/png": "[encoded data removed]",
      "text/plain": [
       "<Figure size 640x480 with 1 Axes>"
      ]
     },
     "metadata": {},
     "output_type": "display_data"
    }
   ],
   "source": [
    "# Group by day of the week and count the number of pickups\n",
    "\n",
    "df['Week']=df['Date/Time'].dt.dayofweek\n",
    "day={0:'Monday',1:'Teusday',2:'Wenesday',3:'Thursday',4:'Friday',5:'Saturday',6:'Sunday'}\n",
    "df['Week']=df['Week'].map(day)\n",
    "grouped_data=df.groupby('Week')['Week'].count()\n",
    "a\n",
    "# Create a pie chart to display the percentage distribution of Uber pickups for each day of the week\n",
    "plt.pie(grouped_data,labels=grouped_data.index)\n",
    "plt.show()"
   ]
  },
  {
   "cell_type": "code",
   "execution_count": null,
   "id": "56996b89",
   "metadata": {},
   "outputs": [],
   "source": []
  }
 ],
 "metadata": {
  "kernelspec": {
   "display_name": "Python 3 (ipykernel)",
   "language": "python",
   "name": "python3"
  },
  "language_info": {
   "codemirror_mode": {
    "name": "ipython",
    "version": 3
   },
   "file_extension": ".py",
   "mimetype": "text/x-python",
   "name": "python",
   "nbconvert_exporter": "python",
   "pygments_lexer": "ipython3",
   "version": "3.9.13"
  }
 },
 "nbformat": 4,
 "nbformat_minor": 5
}
