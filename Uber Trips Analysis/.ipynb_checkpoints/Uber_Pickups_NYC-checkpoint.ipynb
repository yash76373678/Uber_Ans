{
 "cells": [
  {
   "cell_type": "markdown",
   "id": "350604cf",
   "metadata": {},
   "source": [
    "## Uber Pickups in NYC\n",
    "\n",
    "In this project, we are going to analyse the Uber Pickups in New York City. \n",
    "\n",
    "### Dataset\n",
    "\n",
    "The dataset provided contains data on over 4.5 million Uber pickups in New York City from April to September 2014, and 14.3 million more Uber pickups from January to June 2015.\n",
    "\n",
    "#### Uber trip data from 2014\n",
    "\n",
    "There are six files of raw data on Uber pickups in New York City from April to September 2014. The files are separated by month and each has the following columns:\n",
    "* **Date/Time** : The date and time of the Uber pickup\n",
    "* **Lat** : The latitude of the Uber pickup\n",
    "* **Lon** : The longitude of the Uber pickup\n",
    "* **Base** : The TLC (Taxi & Limousine Commission) base company code affiliated with the Uber pickup\n",
    "\n",
    "These files are named:\n",
    "\n",
    "* `uber-raw-data-apr14.csv`\n",
    "* `uber-raw-data-aug14.csv`\n",
    "* `uber-raw-data-jul14.csv`\n",
    "* `uber-raw-data-jun14.csv`\n",
    "* `uber-raw-data-may14.csv`\n",
    "* `uber-raw-data-sep14.csv`\n",
    "\n",
    "#### Uber trip data from 2015\n",
    "\n",
    "Also included is the `file uber-raw-data-janjune-15.csv`. This file has the following columns:\n",
    "\n",
    "* **Dispatching_base_num** : The TLC base company code of the base that dispatched the Uber\n",
    "* **Pickup_date** : The date and time of the Uber pickup\n",
    "* **Affiliated_base_num** : The TLC base company code affiliated with the Uber pickup\n",
    "* **locationID** : The pickup location ID affiliated with the Uber pickup\n",
    "\n",
    "The `base` codes are for the following Uber bases (In the parentheses, we have code names in German which are used internally by Uber to categorize and manage their various service offerings.) :\n",
    "\n",
    "* **B02512 (Unter):** This corresponds to the Uber service category \"UberX\", which is the basic and most common service offering.\n",
    "* **B02598 (Hinter):** This corresponds to the Uber service category \"UberPOOL\", which allows riders heading in the same direction to share a ride and split the cost.\n",
    "* **B02617 (Weiter):** This corresponds to the Uber service category \"UberXL\", which offers larger vehicles such as SUVs and minivans for accommodating more passengers.\n",
    "* **B02682 (Schmecken):** This corresponds to the Uber service category \"UberSELECT\", which provides premium rides with high-end vehicles.\n",
    "* **B02764 (Danach-NY):** This corresponds to the Uber service category \"UberWAV\", which offers wheelchair-accessible vehicles for riders with accessibility needs.\n",
    "* **B02765 (Grun):** This corresponds to the Uber service category \"UberBLACK\", which provides luxury black car services with professional drivers.\n",
    "* **B02835 (Dreist):** This corresponds to the Uber service category \"UberSUV\", which offers larger luxury vehicles for accommodating more passengers.\n",
    "* **B02836 (Drinnen):** This corresponds to the Uber service category \"UberLUX\", which provides high-end luxury vehicles for a premium ride experience."
   ]
  },
  {
   "cell_type": "code",
   "execution_count": null,
   "id": "0aeb7730",
   "metadata": {},
   "outputs": [],
   "source": []
  }
 ],
 "metadata": {
  "kernelspec": {
   "display_name": "Python 3 (ipykernel)",
   "language": "python",
   "name": "python3"
  },
  "language_info": {
   "codemirror_mode": {
    "name": "ipython",
    "version": 3
   },
   "file_extension": ".py",
   "mimetype": "text/x-python",
   "name": "python",
   "nbconvert_exporter": "python",
   "pygments_lexer": "ipython3",
   "version": "3.9.6"
  }
 },
 "nbformat": 4,
 "nbformat_minor": 5
}
